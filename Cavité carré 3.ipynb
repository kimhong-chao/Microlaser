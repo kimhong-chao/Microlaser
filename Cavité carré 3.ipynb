{
 "cells": [
  {
   "cell_type": "code",
   "execution_count": 1,
   "metadata": {},
   "outputs": [],
   "source": [
    "import meep as mp\n",
    "import matplotlib.pyplot as plt\n",
    "%matplotlib inline\n",
    "import numpy as np"
   ]
  },
  {
   "cell_type": "code",
   "execution_count": 4,
   "metadata": {},
   "outputs": [],
   "source": [
    "# Initialized parameter \n",
    "\n",
    "b = 50        # base of the square (On peut prend l'unité) 10 pixel \n",
    "pml = 1     # the thickness of pml layer\n",
    "pad = 0.5       # the padding between the cavity and the pml layer\n",
    "n = 1.5       # refractive index the cavity (used resin)\n",
    "resolution = 20\n",
    "len_scale = 1\n",
    "\n",
    "sxy = b + pml + pad\n",
    "cell_size = mp.Vector3(sxy, sxy, 0)\n",
    "\n",
    "# Booudary conditions\n",
    "boudary_layer = mp.PML(pml)\n",
    "\n",
    "geometry = [mp.Block(mp.Vector3(b,b,mp.inf),\n",
    "                     center=mp.Vector3(),\n",
    "                     material=mp.Medium(index=n))]\n",
    "\n",
    "\n",
    "# Injected sources\n",
    "wl = 0.8                     # wavelenght in micrometer / in vaccum        \n",
    "fcen = len_scale/(n*wl)         # pulse center frequency/ n refractive index\n",
    "df = 0.1                 # pulse frequency width\n",
    "src = mp.Source(mp.GaussianSource(fcen, fwidth=df), mp.Ez, mp.Vector3(0.25,0.1))\n",
    "\n",
    "#Simulation\n",
    "sim = mp.Simulation(cell_size= cell_size,\n",
    "                    geometry= geometry,\n",
    "                    sources=[src],\n",
    "                    resolution=resolution,                    \n",
    "                    boundary_layers=[boudary_layer])"
   ]
  },
  {
   "cell_type": "code",
   "execution_count": 5,
   "metadata": {},
   "outputs": [
    {
     "name": "stdout",
     "output_type": "stream",
     "text": [
      "-----------\n",
      "Initializing structure...\n",
      "time for choose_chunkdivision = 0.000470877 s\n",
      "Working in 2D dimensions.\n",
      "Computational cell is 51.5 x 51.5 x 0 with resolution 20\n",
      "     block, center = (0,0,0)\n",
      "          size (50,50,1e+20)\n",
      "          axes (1,0,0), (0,1,0), (0,0,1)\n",
      "          dielectric constant epsilon diagonal = (2.25,2.25,2.25)\n",
      "time for set_epsilon = 1.95841 s\n",
      "-----------\n"
     ]
    },
    {
     "data": {
      "image/png": "[encoded data removed]",
      "text/plain": [
       "<Figure size 900x600 with 1 Axes>"
      ]
     },
     "metadata": {
      "needs_background": "light"
     },
     "output_type": "display_data"
    }
   ],
   "source": [
    "f = plt.figure(dpi=150)\n",
    "sim.plot2D(ax = f.gca())\n",
    "plt.show()"
   ]
  },
  {
   "cell_type": "code",
   "execution_count": 6,
   "metadata": {},
   "outputs": [
    {
     "data": {
      "application/vnd.jupyter.widget-view+json": {
       "model_id": "d6336680d0394c42b9887cecb77f2f47",
       "version_major": 2,
       "version_minor": 0
      },
      "text/plain": [
       "FloatProgress(value=0.0, description='0% done ', max=700.0)"
      ]
     },
     "metadata": {},
     "output_type": "display_data"
    },
    {
     "name": "stdout",
     "output_type": "stream",
     "text": [
      "Meep progress: 16.275000000000002/700.0 = 2.3% done in 4.0s, 168.3s to go\n",
      "on time step 652 (time=16.3), 0.00614573 s/step\n",
      "Meep progress: 30.6/700.0 = 4.4% done in 8.0s, 175.1s to go\n",
      "on time step 1226 (time=30.65), 0.00697751 s/step\n",
      "Meep progress: 47.95/700.0 = 6.9% done in 12.0s, 163.3s to go\n",
      "on time step 1920 (time=48), 0.00576376 s/step\n",
      "Meep progress: 65.625/700.0 = 9.4% done in 16.0s, 154.8s to go\n",
      "on time step 2627 (time=65.675), 0.00565873 s/step\n",
      "Meep progress: 83.17500000000001/700.0 = 11.9% done in 20.0s, 148.4s to go\n",
      "on time step 3329 (time=83.225), 0.00570327 s/step\n",
      "Meep progress: 100.775/700.0 = 14.4% done in 24.0s, 142.8s to go\n",
      "on time step 4033 (time=100.825), 0.00568198 s/step\n",
      "Meep progress: 118.42500000000001/700.0 = 16.9% done in 28.0s, 137.6s to go\n",
      "on time step 4739 (time=118.475), 0.00567276 s/step\n",
      "Meep progress: 135.975/700.0 = 19.4% done in 32.0s, 132.8s to go\n",
      "on time step 5441 (time=136.025), 0.00569932 s/step\n",
      "Meep progress: 153.55/700.0 = 21.9% done in 36.0s, 128.2s to go\n",
      "on time step 6144 (time=153.6), 0.0056962 s/step\n",
      "Meep progress: 171.22500000000002/700.0 = 24.5% done in 40.0s, 123.6s to go\n",
      "on time step 6851 (time=171.275), 0.00566348 s/step\n",
      "Meep progress: 188.82500000000002/700.0 = 27.0% done in 44.0s, 119.2s to go\n",
      "on time step 7555 (time=188.875), 0.00568251 s/step\n",
      "Meep progress: 205.625/700.0 = 29.4% done in 48.0s, 115.5s to go\n",
      "on time step 8227 (time=205.675), 0.00595754 s/step\n",
      "Meep progress: 222.70000000000002/700.0 = 31.8% done in 52.0s, 111.5s to go\n",
      "on time step 8910 (time=222.75), 0.00585884 s/step\n",
      "Meep progress: 239.5/700.0 = 34.2% done in 56.0s, 107.8s to go\n",
      "on time step 9582 (time=239.55), 0.00595378 s/step\n",
      "Meep progress: 256.5/700.0 = 36.6% done in 60.0s, 103.8s to go\n",
      "on time step 10262 (time=256.55), 0.00588949 s/step\n",
      "Meep progress: 273.175/700.0 = 39.0% done in 64.0s, 100.1s to go\n",
      "on time step 10929 (time=273.225), 0.00599788 s/step\n",
      "Meep progress: 289.27500000000003/700.0 = 41.3% done in 68.0s, 96.6s to go\n",
      "on time step 11573 (time=289.325), 0.00621878 s/step\n",
      "Meep progress: 305.45/700.0 = 43.6% done in 72.1s, 93.1s to go\n",
      "on time step 12220 (time=305.5), 0.00618621 s/step\n",
      "Meep progress: 322.27500000000003/700.0 = 46.0% done in 76.1s, 89.1s to go\n",
      "on time step 12893 (time=322.325), 0.00594452 s/step\n",
      "Meep progress: 338.3/700.0 = 48.3% done in 80.1s, 85.6s to go\n",
      "on time step 13535 (time=338.375), 0.00623944 s/step\n",
      "Meep progress: 353.82500000000005/700.0 = 50.5% done in 84.1s, 82.2s to go\n",
      "on time step 14156 (time=353.9), 0.00644344 s/step\n",
      "Meep progress: 370.8/700.0 = 53.0% done in 88.1s, 78.2s to go\n",
      "on time step 14835 (time=370.875), 0.00589716 s/step\n",
      "Meep progress: 388.125/700.0 = 55.4% done in 92.1s, 74.0s to go\n",
      "on time step 15529 (time=388.225), 0.00577064 s/step\n",
      "Meep progress: 405.55/700.0 = 57.9% done in 96.1s, 69.8s to go\n",
      "on time step 16226 (time=405.65), 0.00574642 s/step\n",
      "Meep progress: 423.0/700.0 = 60.4% done in 100.1s, 65.5s to go\n",
      "on time step 16924 (time=423.1), 0.00573287 s/step\n",
      "Meep progress: 440.475/700.0 = 62.9% done in 104.1s, 61.3s to go\n",
      "on time step 17623 (time=440.575), 0.00572375 s/step\n",
      "Meep progress: 458.07500000000005/700.0 = 65.4% done in 108.1s, 57.1s to go\n",
      "on time step 18327 (time=458.175), 0.00568627 s/step\n",
      "Meep progress: 475.625/700.0 = 67.9% done in 112.1s, 52.9s to go\n",
      "on time step 19029 (time=475.725), 0.00570342 s/step\n",
      "Meep progress: 493.20000000000005/700.0 = 70.5% done in 116.1s, 48.7s to go\n",
      "on time step 19732 (time=493.3), 0.00569187 s/step\n",
      "Meep progress: 510.675/700.0 = 73.0% done in 120.1s, 44.5s to go\n",
      "on time step 20432 (time=510.8), 0.00572275 s/step\n",
      "Meep progress: 528.25/700.0 = 75.5% done in 124.1s, 40.3s to go\n",
      "on time step 21135 (time=528.375), 0.00569987 s/step\n",
      "Meep progress: 545.875/700.0 = 78.0% done in 128.1s, 36.2s to go\n",
      "on time step 21841 (time=546.025), 0.00566849 s/step\n",
      "Meep progress: 563.4250000000001/700.0 = 80.5% done in 132.1s, 32.0s to go\n",
      "on time step 22543 (time=563.575), 0.00570446 s/step\n",
      "Meep progress: 581.0/700.0 = 83.0% done in 136.1s, 27.9s to go\n",
      "on time step 23245 (time=581.125), 0.00569956 s/step\n",
      "Meep progress: 598.6/700.0 = 85.5% done in 140.1s, 23.7s to go\n",
      "on time step 23949 (time=598.725), 0.00568239 s/step\n",
      "Meep progress: 616.1500000000001/700.0 = 88.0% done in 144.1s, 19.6s to go\n",
      "on time step 24651 (time=616.275), 0.00569893 s/step\n",
      "Meep progress: 633.7/700.0 = 90.5% done in 148.1s, 15.5s to go\n",
      "on time step 25353 (time=633.825), 0.00569896 s/step\n",
      "Meep progress: 651.325/700.0 = 93.0% done in 152.1s, 11.4s to go\n",
      "on time step 26058 (time=651.45), 0.005675 s/step\n",
      "Meep progress: 668.85/700.0 = 95.5% done in 156.1s, 7.3s to go\n",
      "on time step 26759 (time=668.975), 0.00571038 s/step\n",
      "Meep progress: 686.4000000000001/700.0 = 98.1% done in 160.1s, 3.2s to go\n",
      "on time step 27460 (time=686.5), 0.00570654 s/step\n",
      "harminv0:, frequency, imag. freq., Q, |amp|, amplitude, error\n",
      "harminv0:, 0.787179900968133, -0.0011896964466009158, 330.8322485190177, 8.468522422450837e-05, 8.076086221655261e-05+2.5480783661305678e-05i, 3.2339269949742623e-06+0.0i\n",
      "harminv0:, 0.7921580915688254, -0.0013372755602292679, 296.18356721968905, 9.680840837119744e-05, 7.421407182330612e-05-6.216220294334565e-05i, 2.489817074023311e-06+0.0i\n",
      "harminv0:, 0.7964866913867447, -0.0011231121689970899, 354.589111120569, 0.00035717647739817943, -0.0003242328511577571-0.00014982688088819012i, 4.2491452200938163e-07+0.0i\n",
      "harminv0:, 0.8011352261497017, -0.001071917489647637, 373.69258076619894, 0.0002415513805159926, -0.000120086240936975+0.0002095861736060102i, 4.619438620076363e-06+0.0i\n",
      "harminv0:, 0.8047585431796439, -0.0026779335436211914, 150.2573775769324, 0.0006621016770112597, 0.0005819139285686476+0.000315839849352366i, 3.356481491054996e-05+0.0i\n",
      "harminv0:, 0.8059805206602031, -0.0010866000265773428, 370.8726766733768, 0.0010449709976029478, 0.0006641615076347989+0.000806755153443454i, 1.5676528706003706e-06+0.0i\n",
      "harminv0:, 0.8107053144743804, -0.001215657301038782, 333.4431972652288, 0.0009536205383570669, 0.0008504035002948156-0.0004315159531961103i, 8.013736640489981e-07+0.0i\n",
      "harminv0:, 0.8155552037625959, -0.001497916324592862, 272.22989374398674, 0.007791083564382575, -0.005294640505574912-0.00571557215193i, 1.606325888691895e-05+0.0i\n",
      "harminv0:, 0.8159264142385501, -0.0011273992948944358, 361.8622159573683, 0.0026932738900338044, 0.0020046098896284725+0.0017986838068825618i, 2.6597040241316738e-05+0.0i\n",
      "harminv0:, 0.820061086632059, -0.0010344395241708047, 396.37942454364884, 0.0011700941795890739, -0.001164778064146586+0.00011141117713748161i, 1.7338122664703513e-06+0.0i\n",
      "harminv0:, 0.82471692046225, -0.0011373968805207884, 362.5457984747728, 0.0045603345937495765, 0.000800224053917727+0.004489576045739798i, 2.0014418573517306e-06+0.0i\n",
      "harminv0:, 0.8268168603913989, -0.0007083150675172258, 583.6504814796215, 9.033872185356134e-05, 8.513672621777886e-05+3.0212952769533934e-05i, 0.00010232960139641683+0.0i\n",
      "harminv0:, 0.8295721725213863, -0.0013247407920460189, 313.1073556058235, 0.0031792413015939163, 0.0031133551284121545+0.0006438905948608933i, 4.9113804623653115e-06+0.0i\n",
      "harminv0:, 0.8328599616296997, 0.0025166795107473294, -165.468022064991, 9.521739383717116e-08, -7.038638069490954e-08+6.41257319787792e-08i, 6.368778970375484e-05+0.0i\n",
      "harminv0:, 0.8339490138220935, -0.0012126437224760074, 343.8557419483914, 0.006752882940359581, -0.0006392065420291839-0.006722562234953764i, 6.106163147130681e-07+0.0i\n",
      "harminv0:, 0.8385429885640484, -0.0011091703135337947, 378.004612245917, 0.002028532871280898, -0.0020013734006709923+0.0003308324665956346i, 9.613930501835207e-07+0.0i\n",
      "harminv0:, 0.8431559115249406, -0.004008971635924597, 105.1586277100813, 0.006343764046732672, 0.0019339044091493634+0.006041800726347298i, 2.9403209901101728e-05+0.0i\n",
      "harminv0:, 0.8434696663749409, -0.0010818192936788377, 389.8385207693217, 0.004015236486287447, -0.0014914092614147698+0.0037279783335985492i, 1.2189751836024202e-06+0.0i\n",
      "harminv0:, 0.8480819673424334, -0.00116128007765317, 365.1496239633774, 0.0018765561251423975, 0.001790211309965289+0.0005626778443139671i, 8.382624084094e-07+0.0i\n",
      "harminv0:, 0.8521870836518206, -0.0038160398586970295, 111.6585668922751, 0.0045242111505676644, -0.0008973047890892479-0.004434335423758366i, 2.2398462984857312e-05+0.0i\n",
      "harminv0:, 0.8528188874336717, -0.0010732686268994796, 397.2998306571879, 0.0023301073754233787, 0.0015309542445147773-0.0017565817607514357i, 1.2224023866868564e-06+0.0i\n",
      "harminv0:, 0.8574601145147929, -0.0012850843198000945, 333.6201762418897, 0.0010081881846282547, -0.0007094534230976157-0.0007163234297990617i, 1.9082409460665585e-06+0.0i\n",
      "harminv0:, 0.8621342200286793, -0.0012003483960236147, 359.11832884713516, 0.0013403834405117322, -0.0008834320002804364+0.0010080553895885757i, 1.773051539853502e-07+0.0i\n",
      "harminv0:, 0.8647899628025022, -0.000948317743158535, 455.9600244967319, 5.7697219454641186e-05, -5.238462067704938e-05-2.418306534165335e-05i, 1.4094783447361727e-06+0.0i\n",
      "harminv0:, 0.8668533528368685, -0.000981946892234561, 441.39523211088294, 0.0002239351375666226, 0.000138039834678448+0.00017632909538396925i, 4.17248234212169e-07+0.0i\n",
      "harminv0:, 0.8715141541495445, -0.0011659647121951447, 373.73093071948875, 0.0003442381794446397, 0.00031396780246267043-0.00014115290717559289i, 1.662763755285566e-06+0.0i\n",
      "harminv0:, 0.8760806381303611, -0.0011561198274985614, 378.88833721755856, 6.428495256526142e-05, -3.0098131307268178e-05-5.680367609696007e-05i, 1.3365610813597664e-06+0.0i\n",
      "harminv0:, 0.880791823506813, -0.001202591600231106, 366.2057107905744, 8.891167965360437e-05, -8.186445612436339e-05+3.469146295974482e-05i, 7.471690563027111e-06+0.0i\n",
      "run 0 finished at t = 700.0 (28000 timesteps)\n"
     ]
    }
   ],
   "source": [
    "# Chercher les fréquences de résonnance autour de f = 0.15\n",
    "\n",
    "h = mp.Harminv(mp.Ez, mp.Vector3(0.25,0.1), fcen, df)   # Est-ce qu'on s'intéresse par les autres composants?\n",
    "\n",
    "sim.run(mp.after_sources(h),\n",
    "        until_after_sources=600)\n",
    "\n",
    "# after_sources : time step in finte difference is half of the period of the source"
   ]
  },
  {
   "cell_type": "code",
   "execution_count": 11,
   "metadata": {},
   "outputs": [
    {
     "name": "stdout",
     "output_type": "stream",
     "text": [
      "[0.787179900968133, 0.7921580915688254, 0.7964866913867447, 0.8011352261497017, 0.8047585431796439, 0.8059805206602031, 0.8107053144743804, 0.8155552037625959, 0.8159264142385501, 0.820061086632059, 0.82471692046225, 0.8268168603913989, 0.8295721725213863, 0.8328599616296997, 0.8339490138220935, 0.8385429885640484, 0.8431559115249406, 0.8434696663749409, 0.8480819673424334, 0.8521870836518206, 0.8528188874336717, 0.8574601145147929, 0.8621342200286793, 0.8647899628025022, 0.8668533528368685, 0.8715141541495445, 0.8760806381303611, 0.880791823506813]\n"
     ]
    }
   ],
   "source": [
    "harminv = []\n",
    "for mode in h.modes :\n",
    "    harminv.append(mode[0])\n",
    "    \n",
    "print(harminv)"
   ]
  },
  {
   "cell_type": "code",
   "execution_count": null,
   "metadata": {},
   "outputs": [],
   "source": []
  }
 ],
 "metadata": {
  "kernelspec": {
   "display_name": "Python (mp)",
   "language": "python",
   "name": "mp"
  },
  "language_info": {
   "codemirror_mode": {
    "name": "ipython",
    "version": 3
   },
   "file_extension": ".py",
   "mimetype": "text/x-python",
   "name": "python",
   "nbconvert_exporter": "python",
   "pygments_lexer": "ipython3",
   "version": "3.7.6"
  }
 },
 "nbformat": 4,
 "nbformat_minor": 4
}
