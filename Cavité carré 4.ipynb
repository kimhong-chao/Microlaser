{
 "cells": [
  {
   "cell_type": "code",
   "execution_count": 1,
   "metadata": {},
   "outputs": [],
   "source": [
    "import meep as mp\n",
    "import matplotlib.pyplot as plt\n",
    "%matplotlib inline\n",
    "import numpy as np"
   ]
  },
  {
   "cell_type": "code",
   "execution_count": 2,
   "metadata": {},
   "outputs": [],
   "source": [
    "# Initialized parameter \n",
    "\n",
    "b = 50        # base of the square (On peut prend l'unité) 10 pixel \n",
    "pml = 1     # the thickness of pml layer\n",
    "pad = 0.5       # the padding between the cavity and the pml layer\n",
    "n = 1.5       # refractive index the cavity (used resin)\n",
    "resolution = 20\n",
    "len_scale = 1\n",
    "\n",
    "sxy = b + pml + pad\n",
    "cell_size = mp.Vector3(sxy, sxy, 0)\n",
    "\n",
    "# Booudary conditions\n",
    "boudary_layer = mp.PML(pml)\n",
    "\n",
    "geometry = [mp.Block(mp.Vector3(b,b,mp.inf),\n",
    "                     center=mp.Vector3(),\n",
    "                     material=mp.Medium(index=n))]\n",
    "\n",
    "\n",
    "# Injected sources\n",
    "wl = 0.8                     # wavelenght in micrometer / in vaccum        \n",
    "fcen = len_scale/(n*wl)         # pulse center frequency/ n refractive index\n",
    "df = 0.1                 # pulse frequency width\n",
    "src = mp.Source(mp.GaussianSource(fcen, fwidth=df), mp.Ez, mp.Vector3(0))\n",
    "\n",
    "#Simulation\n",
    "sim = mp.Simulation(cell_size= cell_size,\n",
    "                    geometry= geometry,\n",
    "                    sources=[src],\n",
    "                    symmetries=[mp.Mirror(mp.X), mp.Mirror(mp.Y)],\n",
    "                    resolution=resolution,                    \n",
    "                    boundary_layers=[boudary_layer])"
   ]
  },
  {
   "cell_type": "code",
   "execution_count": 4,
   "metadata": {},
   "outputs": [],
   "source": [
    "# define step function to collect field Ez\n",
    "\n",
    "T = 0.6        # time step for collecting Ez\n",
    "ez_fields = []\n",
    "def append_Ez(sim):\n",
    "    ez_fields.append(sim.get_array(center=mp.Vector3(0,0), size=mp.Vector3(0,0), component=mp.Ez))"
   ]
  },
  {
   "cell_type": "code",
   "execution_count": 3,
   "metadata": {},
   "outputs": [
    {
     "name": "stdout",
     "output_type": "stream",
     "text": [
      "-----------\n",
      "Initializing structure...\n",
      "Halving computational cell along direction x\n",
      "Halving computational cell along direction y\n",
      "time for choose_chunkdivision = 0.001441 s\n",
      "Working in 2D dimensions.\n",
      "Computational cell is 51.5 x 51.5 x 0 with resolution 20\n",
      "     block, center = (0,0,0)\n",
      "          size (50,50,1e+20)\n",
      "          axes (1,0,0), (0,1,0), (0,0,1)\n",
      "          dielectric constant epsilon diagonal = (2.25,2.25,2.25)\n",
      "time for set_epsilon = 0.487822 s\n",
      "-----------\n"
     ]
    },
    {
     "data": {
      "application/vnd.jupyter.widget-view+json": {
       "model_id": "2d8b8933afd141bcbd3b6f522463d11c",
       "version_major": 2,
       "version_minor": 0
      },
      "text/plain": [
       "FloatProgress(value=0.0, description='0% done ', max=700.0)"
      ]
     },
     "metadata": {},
     "output_type": "display_data"
    },
    {
     "name": "stdout",
     "output_type": "stream",
     "text": [
      "Meep progress: 81.525/700.0 = 11.6% done in 4.0s, 30.3s to go\n",
      "on time step 3267 (time=81.675), 0.00122441 s/step\n",
      "Meep progress: 167.875/700.0 = 24.0% done in 8.0s, 25.4s to go\n",
      "on time step 6721 (time=168.025), 0.0011583 s/step\n",
      "Meep progress: 254.675/700.0 = 36.4% done in 12.0s, 21.0s to go\n",
      "on time step 10194 (time=254.85), 0.00115187 s/step\n",
      "Meep progress: 340.6/700.0 = 48.7% done in 16.0s, 16.9s to go\n",
      "on time step 13631 (time=340.775), 0.00116389 s/step\n",
      "Meep progress: 427.32500000000005/700.0 = 61.0% done in 20.0s, 12.8s to go\n",
      "on time step 17100 (time=427.5), 0.00115325 s/step\n",
      "Meep progress: 513.625/700.0 = 73.4% done in 24.0s, 8.7s to go\n",
      "on time step 20553 (time=513.825), 0.00115856 s/step\n",
      "Meep progress: 600.1/700.0 = 85.7% done in 28.0s, 4.7s to go\n",
      "on time step 24012 (time=600.3), 0.00115654 s/step\n",
      "Meep progress: 686.4000000000001/700.0 = 98.1% done in 32.0s, 0.6s to go\n",
      "on time step 27465 (time=686.625), 0.00115853 s/step\n",
      "harminv0:, frequency, imag. freq., Q, |amp|, amplitude, error\n",
      "harminv0:, 0.7870665824410961, -0.0008937510610513603, 440.3164464583872, 1.2007749674340562e-05, 8.798490459933674e-06+8.171451392995128e-06i, 7.220656188118269e-06+0.0i\n",
      "harminv0:, 0.791803215668491, -0.0013126932703465184, 301.5949093193243, 0.00037945526355391085, 0.00011059287369346264-0.00036298142284005357i, 3.273157441941339e-07+0.0i\n",
      "harminv0:, 0.8012493376482486, -0.0011137774188796777, 359.69904043045074, 0.0008093869673977905, -0.0005084723274937589+0.0006297326060848934i, 1.4388857774570896e-07+0.0i\n",
      "harminv0:, 0.8061070716389421, -0.0006629752165719938, 607.946610589029, 9.506684980195687e-05, -7.494680289845222e-05+5.8486602453625075e-05i, 1.942490288537355e-06+0.0i\n",
      "harminv0:, 0.8107246822005644, -0.0011460266541123872, 353.7110935820604, 0.00310447537394928, 0.0029754081314076206-0.0008858407300474142i, 5.658976532765372e-07+0.0i\n",
      "harminv0:, 0.8112794236378901, -0.0040115163335951365, 101.11879850066799, 0.008059931711434225, 0.0027154464519676866-0.007588731762256401i, 7.332047185066962e-06+0.0i\n",
      "harminv0:, 0.8156949908160732, -0.0010688243537199812, 381.5851444519832, 0.0006941162242624817, -0.0006798086520998031-0.00014020531129259163i, 9.863962008050874e-07+0.0i\n",
      "harminv0:, 0.820069484528449, -0.0011253364022805483, 364.3663720761804, 0.0048200142452077205, -0.004561010156889224+0.0015587570922881778i, 4.811778608673335e-07+0.0i\n",
      "harminv0:, 0.8225901367700057, -0.0036654294072980776, 112.20924554326187, 0.013466658129534412, -0.01169607622940144+0.006674779547954064i, 5.957970276279463e-06+0.0i\n",
      "harminv0:, 0.8242470429312172, -0.0010230675749781839, 402.83118294937344, 0.0008970801775138542, -0.00026030696813577275+0.0008584830384045162i, 1.0514593220098506e-06+0.0i\n",
      "harminv0:, 0.8293600217670478, -0.0011958436333914494, 346.7677539976348, 0.009099698413226854, 0.00905198707676949+0.0009306133319921218i, 7.800666502121846e-08+0.0i\n",
      "harminv0:, 0.8294529034647229, 0.0015293395740923852, -271.18009548565334, 3.756711016430855e-07, 3.6801569055412664e-07-7.545348312502736e-08i, 1.2312215274992362e-05+0.0i\n",
      "harminv0:, 0.8342713355491556, -0.0010661185898867124, 391.2657294709619, 0.0010852754662539273, -0.0006398917994148538-0.00087656221838173i, 3.8215607382375164e-07+0.0i\n",
      "harminv0:, 0.8387526279835696, -0.0010076545506329025, 416.19056226002925, 0.005594684860423906, -0.005586684297121812-0.0002990940516777593i, 4.672618743208653e-07+0.0i\n",
      "harminv0:, 0.839105899505981, -0.0029629272631371633, 141.60082664626927, 0.010883679582524204, -0.010883115639942695-0.0001107936040073865i, 1.989990945703104e-06+0.0i\n",
      "harminv0:, 0.8439445774688257, -0.0008139035324348544, 518.4549174667551, 0.0005943845396954037, 0.00026724371030899247-0.0005309178658975418i, 4.2438031393192626e-07+0.0i\n",
      "harminv0:, 0.848130047204555, -0.0010880740937084478, 389.7391051347895, 0.004704762224219277, 0.0035405873656964787+0.00309822992889669i, 1.2286977346666098e-07+0.0i\n",
      "harminv0:, 0.8501538196994848, -0.004586010534775439, 92.68991133500677, 0.0161748872538683, 0.01421932906448805+0.007709582260483158i, 4.073108447682029e-06+0.0i\n",
      "harminv0:, 0.8534687677968302, -0.0011401265547534057, 374.2868562435265, 0.0005952993975227211, 0.0005607395461884228-0.00019988129985397935i, 1.4342771164683258e-06+0.0i\n",
      "harminv0:, 0.857491182082045, -0.001235607178750903, 346.9918258927962, 0.003762012349471265, -0.0030329869179413706-0.0022256970308581563i, 1.4145350233492256e-07+0.0i\n",
      "harminv0:, 0.8660994885529167, 0.0012412839721623655, -348.87242080639186, 9.496510142296212e-08, 9.472688679053172e-08-6.7221579308484035e-09i, 5.157271627933556e-06+0.0i\n",
      "harminv0:, 0.866586624333549, -0.0010979921372665225, 394.62332876578563, 0.0007831527533825733, 0.0006258324002070703+0.00047080998500643876i, 4.5881147314496e-07+0.0i\n",
      "harminv0:, 0.8729168960956628, -0.002531496877158727, 172.41121329673481, 0.00038905095081988306, -0.00038887273582897475+1.1774449572844812e-05i, 3.801544235687771e-06+0.0i\n",
      "harminv0:, 0.8762832517857903, -0.0012310007631543345, 355.92311475924237, 0.00033060389992345905, -5.277504246950837e-05-0.0003263644183071159i, 2.3405069563794044e-06+0.0i\n",
      "run 0 finished at t = 700.0 (28000 timesteps)\n"
     ]
    }
   ],
   "source": [
    "# Chercher les fréquences de résonnance autour de f = 0.15\n",
    "\n",
    "h1 = mp.Harminv(mp.Ez, mp.Vector3(0,0), fcen, df)   # Est-ce qu'on s'intéresse par les autres composants?\n",
    "\n",
    "sim.run(mp.after_sources(h1),\n",
    "        until_after_sources=600)\n",
    "\n",
    "# after_sources : time step in finte difference is half of the period of the source"
   ]
  },
  {
   "cell_type": "code",
   "execution_count": 4,
   "metadata": {},
   "outputs": [
    {
     "data": {
      "text/plain": [
       "(24, 5)"
      ]
     },
     "execution_count": 4,
     "metadata": {},
     "output_type": "execute_result"
    }
   ],
   "source": [
    "np.shape(h1.modes)"
   ]
  },
  {
   "cell_type": "code",
   "execution_count": 5,
   "metadata": {},
   "outputs": [
    {
     "name": "stdout",
     "output_type": "stream",
     "text": [
      "-----------\n",
      "Initializing structure...\n",
      "Halving computational cell along direction x\n",
      "Halving computational cell along direction y\n",
      "time for choose_chunkdivision = 0.001544 s\n",
      "Working in 2D dimensions.\n",
      "Computational cell is 51.5 x 51.5 x 0 with resolution 20\n",
      "     block, center = (0,0,0)\n",
      "          size (50,50,1e+20)\n",
      "          axes (1,0,0), (0,1,0), (0,0,1)\n",
      "          dielectric constant epsilon diagonal = (2.25,2.25,2.25)\n",
      "time for set_epsilon = 0.495682 s\n",
      "-----------\n"
     ]
    },
    {
     "data": {
      "application/vnd.jupyter.widget-view+json": {
       "model_id": "6eceb2e2dc594fb8a62a915d90c849d7",
       "version_major": 2,
       "version_minor": 0
      },
      "text/plain": [
       "FloatProgress(value=0.0, description='0% done ', max=700.0)"
      ]
     },
     "metadata": {},
     "output_type": "display_data"
    },
    {
     "name": "stdout",
     "output_type": "stream",
     "text": [
      "Meep progress: 77.825/700.0 = 11.1% done in 4.0s, 32.0s to go\n",
      "on time step 3117 (time=77.925), 0.00128378 s/step\n",
      "Meep progress: 162.75/700.0 = 23.2% done in 8.0s, 26.4s to go\n",
      "on time step 6515 (time=162.875), 0.00117727 s/step\n",
      "Meep progress: 248.125/700.0 = 35.4% done in 12.0s, 21.9s to go\n",
      "on time step 9930 (time=248.25), 0.00117133 s/step\n",
      "Meep progress: 333.675/700.0 = 47.7% done in 16.0s, 17.6s to go\n",
      "on time step 13353 (time=333.825), 0.00116889 s/step\n",
      "Meep progress: 420.45000000000005/700.0 = 60.1% done in 20.0s, 13.3s to go\n",
      "on time step 16825 (time=420.625), 0.00115225 s/step\n",
      "Meep progress: 507.55/700.0 = 72.5% done in 24.0s, 9.1s to go\n",
      "on time step 20309 (time=507.725), 0.00114839 s/step\n",
      "Meep progress: 593.9/700.0 = 84.8% done in 28.0s, 5.0s to go\n",
      "on time step 23765 (time=594.125), 0.00115757 s/step\n",
      "Meep progress: 680.5500000000001/700.0 = 97.2% done in 32.0s, 0.9s to go\n",
      "on time step 27231 (time=680.775), 0.00115419 s/step\n",
      "harminv1:, frequency, imag. freq., Q, |amp|, amplitude, error\n",
      "harminv1:, 0.7874956600408717, -0.0020129456992504253, 195.60777529520965, 1.8127782938492757e-20, -1.7408464934535207e-20+5.055874097341355e-21i, 0.0008053386974193783+0.0i\n",
      "harminv1:, 0.7935492842616598, 0.0016936801296732163, -234.26775527406394, 5.094337147625216e-22, -3.5768967394596888e-22+3.6274068821841415e-22i, 0.0010237747722187886+0.0i\n",
      "run 1 finished at t = 700.0 (28000 timesteps)\n"
     ]
    }
   ],
   "source": [
    "# Chercher les fréquences de résonnance autour de lambda = 0.8\n",
    "\n",
    "h2 = mp.Harminv(mp.Hx, mp.Vector3(0,0), fcen, df)   \n",
    "\n",
    "sim.reset_meep()\n",
    "sim.run(mp.after_sources(h2),\n",
    "        until_after_sources=600)\n"
   ]
  },
  {
   "cell_type": "code",
   "execution_count": 6,
   "metadata": {},
   "outputs": [
    {
     "data": {
      "text/plain": [
       "(2, 5)"
      ]
     },
     "execution_count": 6,
     "metadata": {},
     "output_type": "execute_result"
    }
   ],
   "source": [
    "np.shape(h2.modes)"
   ]
  },
  {
   "cell_type": "code",
   "execution_count": 7,
   "metadata": {},
   "outputs": [
    {
     "name": "stdout",
     "output_type": "stream",
     "text": [
      "-----------\n",
      "Initializing structure...\n",
      "Halving computational cell along direction x\n",
      "Halving computational cell along direction y\n",
      "time for choose_chunkdivision = 0.00602198 s\n",
      "Working in 2D dimensions.\n",
      "Computational cell is 51.5 x 51.5 x 0 with resolution 20\n",
      "     block, center = (0,0,0)\n",
      "          size (50,50,1e+20)\n",
      "          axes (1,0,0), (0,1,0), (0,0,1)\n",
      "          dielectric constant epsilon diagonal = (2.25,2.25,2.25)\n",
      "time for set_epsilon = 0.499627 s\n",
      "-----------\n"
     ]
    },
    {
     "data": {
      "application/vnd.jupyter.widget-view+json": {
       "model_id": "54bb96c864fb44b6891192ea05a46be2",
       "version_major": 2,
       "version_minor": 0
      },
      "text/plain": [
       "FloatProgress(value=0.0, description='0% done ', max=700.0)"
      ]
     },
     "metadata": {},
     "output_type": "display_data"
    },
    {
     "name": "stdout",
     "output_type": "stream",
     "text": [
      "Meep progress: 78.025/700.0 = 11.1% done in 4.0s, 31.9s to go\n",
      "on time step 3127 (time=78.175), 0.00127944 s/step\n",
      "Meep progress: 163.97500000000002/700.0 = 23.4% done in 8.0s, 26.2s to go\n",
      "on time step 6566 (time=164.15), 0.00116339 s/step\n",
      "Meep progress: 249.60000000000002/700.0 = 35.7% done in 12.0s, 21.7s to go\n",
      "on time step 9991 (time=249.775), 0.00116835 s/step\n",
      "Meep progress: 335.40000000000003/700.0 = 47.9% done in 16.0s, 17.4s to go\n",
      "on time step 13424 (time=335.6), 0.0011652 s/step\n",
      "Meep progress: 421.85/700.0 = 60.3% done in 20.0s, 13.2s to go\n",
      "on time step 16883 (time=422.075), 0.0011566 s/step\n",
      "Meep progress: 507.5/700.0 = 72.5% done in 24.0s, 9.1s to go\n",
      "on time step 20310 (time=507.75), 0.00116736 s/step\n",
      "Meep progress: 592.725/700.0 = 84.7% done in 28.0s, 5.1s to go\n",
      "on time step 23720 (time=593), 0.00117327 s/step\n",
      "Meep progress: 678.1/700.0 = 96.9% done in 32.0s, 1.0s to go\n",
      "on time step 27135 (time=678.375), 0.0011716 s/step\n",
      "harminv2:, frequency, imag. freq., Q, |amp|, amplitude, error\n",
      "run 2 finished at t = 700.0 (28000 timesteps)\n"
     ]
    }
   ],
   "source": [
    "# Chercher les fréquences de résonnance autour de lambda = 0.8\n",
    "\n",
    "h3 = mp.Harminv(mp.Hy, mp.Vector3(0,0), fcen, df)   \n",
    "\n",
    "sim.reset_meep()\n",
    "sim.run(mp.after_sources(h3),\n",
    "        until_after_sources=600)"
   ]
  }
 ],
 "metadata": {
  "kernelspec": {
   "display_name": "Python (mp)",
   "language": "python",
   "name": "mp"
  },
  "language_info": {
   "codemirror_mode": {
    "name": "ipython",
    "version": 3
   },
   "file_extension": ".py",
   "mimetype": "text/x-python",
   "name": "python",
   "nbconvert_exporter": "python",
   "pygments_lexer": "ipython3",
   "version": "3.7.6"
  }
 },
 "nbformat": 4,
 "nbformat_minor": 4
}
