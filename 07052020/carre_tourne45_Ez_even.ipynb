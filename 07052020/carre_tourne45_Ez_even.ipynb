{
 "cells": [
  {
   "cell_type": "markdown",
   "metadata": {},
   "source": [
    "# Simulation d'une cavité carrée avec les plans de symétrie (XZ) et (YZ), la postion du carré : Rotation 45 degré "
   ]
  },
  {
   "cell_type": "code",
   "execution_count": 1,
   "metadata": {},
   "outputs": [],
   "source": [
    "import meep as mp\n",
    "import matplotlib.pyplot as plt\n",
    "%matplotlib inline\n",
    "import numpy as np"
   ]
  },
  {
   "cell_type": "code",
   "execution_count": 7,
   "metadata": {},
   "outputs": [],
   "source": [
    "# Initialized parameter \n",
    "\n",
    "b = 1          # base of the square (On peut prend l'unité) 10 pixel \n",
    "pml = 0.02     # the thickness of pml layer\n",
    "pad = 0.03     # the padding between the cavity and the pml layer\n",
    "n = 1.5        # refractive index the cavity (used resin)\n",
    "resolution = 200\n",
    "len_scale = 25\n",
    "\n",
    "sxy = b*np.sqrt(2) + 2*pml + 2*pad\n",
    "cell_size = mp.Vector3(sxy, sxy, 0)\n",
    "\n",
    "# Booudary conditions (using perfect matched layer)\n",
    "boudary_layer = mp.PML(pml)\n",
    "\n",
    "# Geometry of the cavity (rotated 45 degree)\n",
    "geometry = [mp.Block(mp.Vector3(b,b,mp.inf),\n",
    "                     mp.Vector3(1,1,0), \n",
    "                     mp.Vector3(1,-1,0),\n",
    "                     center=mp.Vector3(),\n",
    "                     material=mp.Medium(index=n))]\n",
    "\n",
    "# Injected sources\n",
    "wl = 2                     # wavelenght in micrometer / in vaccum        \n",
    "fcen = len_scale/wl          # pulse center frequency\n",
    "df = 24                      # pulse frequency width\n",
    "\n",
    "#src = mp.Source(mp.GaussianSource(fcen, fwidth=df), mp.Hx, mp.Vector3(0))\n",
    "pos_x = 0.25\n",
    "pos_y = 0.41\n",
    "sources_centers = [mp.Vector3(-pos_x,pos_y), mp.Vector3(pos_x,pos_y), \n",
    "                   mp.Vector3(pos_x,-pos_y), mp.Vector3(-pos_x,-pos_y)]\n",
    "sources_size = mp.Vector3(0)\n",
    "sources_amps = [1,1,1,1]\n",
    "\n",
    "src = [mp.Source(mp.GaussianSource(fcen, fwidth=df), mp.Ez, sources_centers[0], sources_size, sources_amps[0]),\n",
    "       mp.Source(mp.GaussianSource(fcen, fwidth=df), mp.Ez, sources_centers[1], sources_size, sources_amps[1]),\n",
    "       mp.Source(mp.GaussianSource(fcen, fwidth=df), mp.Ez, sources_centers[2], sources_size, sources_amps[2]),\n",
    "       mp.Source(mp.GaussianSource(fcen, fwidth=df), mp.Ez, sources_centers[3], sources_size, sources_amps[3])]\n",
    "\n",
    "#Simulation\n",
    "sim = mp.Simulation(cell_size= cell_size,\n",
    "                    geometry= geometry,\n",
    "                    sources=src,\n",
    "                    symmetries=[mp.Mirror(mp.X), mp.Mirror(mp.Y)],\n",
    "                    resolution=resolution,                    \n",
    "                    boundary_layers=[boudary_layer])"
   ]
  },
  {
   "cell_type": "code",
   "execution_count": 8,
   "metadata": {},
   "outputs": [
    {
     "name": "stdout",
     "output_type": "stream",
     "text": [
      "-----------\n",
      "Initializing structure...\n",
      "Padding x to even number of grid points.\n",
      "Padding y to even number of grid points.\n",
      "Halving computational cell along direction x\n",
      "Halving computational cell along direction y\n",
      "time for choose_chunkdivision = 0.00281405 s\n",
      "Working in 2D dimensions.\n",
      "Computational cell is 1.515 x 1.515 x 0 with resolution 200\n",
      "     block, center = (0,0,0)\n",
      "          size (1,1,1e+20)\n",
      "          axes (0.707107,0.707107,0), (0.707107,-0.707107,0), (0,0,1)\n",
      "          dielectric constant epsilon diagonal = (2.25,2.25,2.25)\n",
      "time for set_epsilon = 0.0835299 s\n",
      "-----------\n"
     ]
    },
    {
     "data": {
      "image/png": "[encoded data removed]",
      "text/plain": [
       "<Figure size 900x600 with 1 Axes>"
      ]
     },
     "metadata": {
      "needs_background": "light"
     },
     "output_type": "display_data"
    }
   ],
   "source": [
    "# visualize the cavity\n",
    "f = plt.figure(dpi=150)\n",
    "sim.plot2D(ax = f.gca())\n",
    "plt.show()"
   ]
  },
  {
   "cell_type": "code",
   "execution_count": 4,
   "metadata": {},
   "outputs": [],
   "source": [
    "# define step function to collect field Ez\n",
    "def append_fields(sim):\n",
    "    box = mp.Volume(center=pt_harminv, size=mp.Vector3(0,0))\n",
    "    ez_fields.append(sim.get_array(vol=box, component=mp.Ez))\n",
    "    hx_fields.append(sim.get_array(vol=box, component=mp.Hx))\n",
    "    "
   ]
  },
  {
   "cell_type": "code",
   "execution_count": 13,
   "metadata": {},
   "outputs": [
    {
     "name": "stdout",
     "output_type": "stream",
     "text": [
      "-----------\n",
      "Initializing structure...\n",
      "Padding x to even number of grid points.\n",
      "Padding y to even number of grid points.\n",
      "Halving computational cell along direction x\n",
      "Halving computational cell along direction y\n",
      "time for choose_chunkdivision = 0.00207019 s\n",
      "Working in 2D dimensions.\n",
      "Computational cell is 1.515 x 1.515 x 0 with resolution 200\n",
      "     block, center = (0,0,0)\n",
      "          size (1,1,1e+20)\n",
      "          axes (0.707107,0.707107,0), (0.707107,-0.707107,0), (0,0,1)\n",
      "          dielectric constant epsilon diagonal = (2.25,2.25,2.25)\n",
      "time for set_epsilon = 0.0704591 s\n",
      "-----------\n"
     ]
    },
    {
     "data": {
      "application/vnd.jupyter.widget-view+json": {
       "model_id": "1b3f8b09594c4d5693bcac0edbfbaa6e",
       "version_major": 2,
       "version_minor": 0
      },
      "text/plain": [
       "FloatProgress(value=0.0, description='0% done ', max=700.4166666567326)"
      ]
     },
     "metadata": {},
     "output_type": "display_data"
    },
    {
     "name": "stdout",
     "output_type": "stream",
     "text": [
      "Meep progress: 43.72/700.4166666567326 = 6.2% done in 4.0s, 60.1s to go\n",
      "on time step 17528 (time=43.82), 0.000228217 s/step\n",
      "Meep progress: 87.1225/700.4166666567326 = 12.4% done in 8.0s, 56.3s to go\n",
      "on time step 34891 (time=87.2275), 0.000230378 s/step\n",
      "Meep progress: 131.6825/700.4166666567326 = 18.8% done in 12.0s, 51.8s to go\n",
      "on time step 52718 (time=131.795), 0.000224379 s/step\n",
      "Meep progress: 176.5825/700.4166666567326 = 25.2% done in 16.0s, 47.5s to go\n",
      "on time step 70680 (time=176.7), 0.000222694 s/step\n",
      "Meep progress: 221.415/700.4166666567326 = 31.6% done in 20.0s, 43.3s to go\n",
      "on time step 88614 (time=221.535), 0.000223041 s/step\n",
      "Meep progress: 262.42/700.4166666567326 = 37.5% done in 24.0s, 40.1s to go\n",
      "on time step 105019 (time=262.548), 0.000243836 s/step\n",
      "Meep progress: 306.6575/700.4166666567326 = 43.8% done in 28.0s, 36.0s to go\n",
      "on time step 122715 (time=306.788), 0.000226043 s/step\n",
      "Meep progress: 351.455/700.4166666567326 = 50.2% done in 32.0s, 31.8s to go\n",
      "on time step 140638 (time=351.595), 0.000223182 s/step\n",
      "Meep progress: 396.2875/700.4166666567326 = 56.6% done in 36.0s, 27.6s to go\n",
      "on time step 158573 (time=396.433), 0.000223033 s/step\n",
      "Meep progress: 441.1825/700.4166666567326 = 63.0% done in 40.0s, 23.5s to go\n",
      "on time step 176534 (time=441.335), 0.000222709 s/step\n",
      "Meep progress: 486.18/700.4166666567326 = 69.4% done in 44.0s, 19.4s to go\n",
      "on time step 194530 (time=486.325), 0.000222281 s/step\n",
      "Meep progress: 530.835/700.4166666567326 = 75.8% done in 48.0s, 15.3s to go\n",
      "on time step 212400 (time=531), 0.000223849 s/step\n",
      "Meep progress: 572.3025/700.4166666567326 = 81.7% done in 52.0s, 11.6s to go\n",
      "on time step 228988 (time=572.47), 0.000241142 s/step\n",
      "Meep progress: 615.7975/700.4166666567326 = 87.9% done in 56.0s, 7.7s to go\n",
      "on time step 246390 (time=615.975), 0.000229864 s/step\n",
      "Meep progress: 660.065/700.4166666567326 = 94.2% done in 60.0s, 3.7s to go\n",
      "on time step 264081 (time=660.202), 0.000226104 s/step\n",
      "run 2 finished at t = 700.4175 (280167 timesteps)\n"
     ]
    }
   ],
   "source": [
    "ez_fields = []\n",
    "hx_fields = []\n",
    "pt_harminv = mp.Vector3(0.25,0.41)\n",
    "\n",
    "# Chercher les fréquences de résonnance autour de fcen avec la composante Hx, source Ez\n",
    "h_ez = mp.Harminv(mp.Ez, pt_harminv, fcen, df,2000) \n",
    "h_hx = mp.Harminv(mp.Hx, pt_harminv, fcen, df,2000) \n",
    "\n",
    "sim.fields = None\n",
    "sim.reset_meep()\n",
    "#sim.sources = [mp.Source(mp.GaussianSource(fcen, fwidth=df), mp.Hx, mp.Vector3(-0.1))]\n",
    "sim.run(#mp.after_sources(h_ez),\n",
    "        #mp.after_sources(h_hx),\n",
    "        mp.after_sources(append_fields),\n",
    "        until_after_sources=700)"
   ]
  },
  {
   "cell_type": "code",
   "execution_count": 14,
   "metadata": {},
   "outputs": [
    {
     "data": {
      "image/png": "[encoded data removed]",
      "text/plain": [
       "<Figure size 432x288 with 2 Axes>"
      ]
     },
     "metadata": {
      "needs_background": "light"
     },
     "output_type": "display_data"
    }
   ],
   "source": [
    "t1 = np.arange(0.0, 2.0, 2/len(ez_fields))\n",
    "t2 = np.arange(0.0, 2.0, 2/len(hx_fields))\n",
    "\n",
    "plt.subplot(2, 1, 1)\n",
    "plt.plot(t1, ez_fields)\n",
    "plt.title('Ez')\n",
    "\n",
    "plt.subplot(2, 1, 2)\n",
    "plt.plot(t2, hx_fields)\n",
    "plt.xlabel('Hx')\n",
    "\n",
    "plt.show()"
   ]
  },
  {
   "cell_type": "code",
   "execution_count": 9,
   "metadata": {},
   "outputs": [],
   "source": [
    "np.savez('Ez_even_700', np.array(ez_fields))\n",
    "np.savez('Hx_even_700', np.array(hx_fields))"
   ]
  },
  {
   "cell_type": "code",
   "execution_count": 8,
   "metadata": {},
   "outputs": [
    {
     "data": {
      "text/plain": [
       "[<matplotlib.lines.Line2D at 0x7f8989cd5b90>]"
      ]
     },
     "execution_count": 8,
     "metadata": {},
     "output_type": "execute_result"
    },
    {
     "data": {
      "image/png": "[encoded data removed]",
      "text/plain": [
       "<Figure size 432x288 with 1 Axes>"
      ]
     },
     "metadata": {
      "needs_background": "light"
     },
     "output_type": "display_data"
    }
   ],
   "source": [
    "modes_Ez = np.array(h_ez.modes)\n",
    "modes_Hx = np.array(h_hx.modes)\n",
    "\n",
    "plt.plot(np.abs(modes_Ez[:,0]), -np.abs(modes_Ez[:,1]), '.')\n",
    "plt.plot(np.abs(modes_Hx[:,0]), -np.abs(modes_Hx[:,1]), '+')"
   ]
  },
  {
   "cell_type": "code",
   "execution_count": 10,
   "metadata": {},
   "outputs": [
    {
     "data": {
      "text/plain": [
       "[<matplotlib.lines.Line2D at 0x7f95b5f85a50>]"
      ]
     },
     "execution_count": 10,
     "metadata": {},
     "output_type": "execute_result"
    },
    {
     "data": {
      "image/png": "[encoded data removed]",
      "text/plain": [
       "<Figure size 432x288 with 1 Axes>"
      ]
     },
     "metadata": {
      "needs_background": "light"
     },
     "output_type": "display_data"
    }
   ],
   "source": [
    "modes_Ez_f = modes_Ez[np.nonzero(np.abs(modes_Ez[:,3]) > 0.5e-2)]\n",
    "modes_Hx_f = modes_Hx[np.nonzero(np.abs(modes_Hx[:,3]) > 0.5e-2)]\n",
    "\n",
    "plt.plot(np.abs(modes_Ez_f[:,0]), -np.abs(modes_Ez_f[:,1]), '.')\n",
    "plt.plot(np.abs(modes_Hx_f[:,0]), -np.abs(modes_Hx_f[:,1]), '+')"
   ]
  },
  {
   "cell_type": "code",
   "execution_count": null,
   "metadata": {},
   "outputs": [],
   "source": [
    "\n",
    "plt.plot(np.abs(modes_Hx[:,0]), -np.abs(modes_Hx[:,1]), '.')"
   ]
  }
 ],
 "metadata": {
  "kernelspec": {
   "display_name": "Python (mp)",
   "language": "python",
   "name": "mp"
  },
  "language_info": {
   "codemirror_mode": {
    "name": "ipython",
    "version": 3
   },
   "file_extension": ".py",
   "mimetype": "text/x-python",
   "name": "python",
   "nbconvert_exporter": "python",
   "pygments_lexer": "ipython3",
   "version": "3.7.6"
  }
 },
 "nbformat": 4,
 "nbformat_minor": 4
}
